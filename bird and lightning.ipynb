{
  "cells": [
    {
      "cell_type": "markdown",
      "metadata": {
        "id": "view-in-github",
        "colab_type": "text"
      },
      "source": [
        "<a href=\"https://colab.research.google.com/github/BhargavR47/Bird-and-lightning-detection/blob/main/bird%20and%20lightning.ipynb\" target=\"_parent\"><img src=\"https://colab.research.google.com/assets/colab-badge.svg\" alt=\"Open In Colab\"/></a>"
      ]
    },
    {
      "cell_type": "code",
      "execution_count": null,
      "metadata": {
        "id": "IkS72dW_kmeC"
      },
      "outputs": [],
      "source": [
        "import numpy as np\n",
        "import os\n",
        "\n",
        "from tflite_model_maker.config import ExportFormat, QuantizationConfig\n",
        "from tflite_model_maker import model_spec\n",
        "from tflite_model_maker import object_detector\n",
        "\n",
        "from tflite_support import metadata\n",
        "\n",
        "import tensorflow as tf\n",
        "assert tf.__version__.startswith('2')\n",
        "\n",
        "tf.get_logger().setLevel('ERROR')\n",
        "from absl import logging\n",
        "logging.set_verbosity(logging.ERROR)"
      ]
    },
    {
      "cell_type": "code",
      "execution_count": null,
      "metadata": {
        "colab": {
          "base_uri": "https://localhost:8080/"
        },
        "id": "CFMKvnuhkspv",
        "outputId": "1d68204e-312d-4cf2-8871-b4c0147122a4"
      },
      "outputs": [
        {
          "output_type": "stream",
          "name": "stdout",
          "text": [
            "\u001b[K     |████████████████████████████████| 642 kB 5.2 MB/s \n",
            "\u001b[K     |████████████████████████████████| 3.4 MB 60.7 MB/s \n",
            "\u001b[K     |████████████████████████████████| 120 kB 67.7 MB/s \n",
            "\u001b[K     |████████████████████████████████| 596 kB 61.6 MB/s \n",
            "\u001b[K     |████████████████████████████████| 10.9 MB 32.9 MB/s \n",
            "\u001b[K     |████████████████████████████████| 1.1 MB 46.7 MB/s \n",
            "\u001b[K     |████████████████████████████████| 77 kB 6.4 MB/s \n",
            "\u001b[K     |████████████████████████████████| 237 kB 49.0 MB/s \n",
            "\u001b[K     |████████████████████████████████| 87 kB 7.4 MB/s \n",
            "\u001b[K     |████████████████████████████████| 42.5 MB 1.2 MB/s \n",
            "\u001b[K     |████████████████████████████████| 6.4 MB 40.8 MB/s \n",
            "\u001b[K     |████████████████████████████████| 1.2 MB 61.0 MB/s \n",
            "\u001b[K     |████████████████████████████████| 840 kB 73.8 MB/s \n",
            "\u001b[K     |████████████████████████████████| 25.3 MB 1.3 MB/s \n",
            "\u001b[K     |████████████████████████████████| 99 kB 12.1 MB/s \n",
            "\u001b[K     |████████████████████████████████| 47.8 MB 1.5 MB/s \n",
            "\u001b[K     |████████████████████████████████| 352 kB 65.5 MB/s \n",
            "\u001b[K     |████████████████████████████████| 40 kB 6.1 MB/s \n",
            "\u001b[K     |████████████████████████████████| 213 kB 79.0 MB/s \n",
            "\u001b[K     |████████████████████████████████| 1.1 MB 45.9 MB/s \n",
            "\u001b[?25h  Building wheel for fire (setup.py) ... \u001b[?25l\u001b[?25hdone\n",
            "  Building wheel for py-cpuinfo (setup.py) ... \u001b[?25l\u001b[?25hdone\n",
            "\u001b[31mERROR: pip's dependency resolver does not currently take into account all the packages that are installed. This behaviour is the source of the following dependency conflicts.\n",
            "datascience 0.10.6 requires folium==0.2.1, but you have folium 0.8.3 which is incompatible.\u001b[0m\n"
          ]
        }
      ],
      "source": [
        "!pip install -q tflite-model-maker\n",
        "!pip install -q tflite-support"
      ]
    },
    {
      "cell_type": "code",
      "execution_count": null,
      "metadata": {
        "id": "nm65UUv2lTBR"
      },
      "outputs": [],
      "source": [
        "!pip install -q kaggle"
      ]
    },
    {
      "cell_type": "code",
      "execution_count": null,
      "metadata": {
        "id": "r2GGYjy1lTHJ"
      },
      "outputs": [],
      "source": [
        "! mkdir ~/.kaggle"
      ]
    },
    {
      "cell_type": "code",
      "execution_count": null,
      "metadata": {
        "id": "-txdT6U_lTJI"
      },
      "outputs": [],
      "source": [
        "! cp kaggle.json ~/.kaggle/"
      ]
    },
    {
      "cell_type": "code",
      "execution_count": 20,
      "metadata": {
        "id": "CJ2YVK7wlTOk"
      },
      "outputs": [],
      "source": [
        "! chmod 600 ~/.kaggle/kaggle.json"
      ]
    },
    {
      "cell_type": "code",
      "source": [
        "!kaggle datasets download -d bhargav6633/bird-and-lightning-detection --unzip"
      ],
      "metadata": {
        "colab": {
          "base_uri": "https://localhost:8080/"
        },
        "id": "XseEDsLU0PaV",
        "outputId": "f718d6b1-466b-4a65-90ef-97d25f06f5e6"
      },
      "execution_count": 34,
      "outputs": [
        {
          "output_type": "stream",
          "name": "stdout",
          "text": [
            "Downloading bird-and-lightning-detection.zip to /content\n",
            " 90% 96.0M/106M [00:00<00:00, 182MB/s]\n",
            "100% 106M/106M [00:00<00:00, 166MB/s] \n"
          ]
        }
      ]
    },
    {
      "cell_type": "code",
      "execution_count": 35,
      "metadata": {
        "id": "50-ZlJJrlTWF",
        "colab": {
          "base_uri": "https://localhost:8080/",
          "height": 409
        },
        "outputId": "d1427bd1-015a-4a83-c828-8b45e40a8a53"
      },
      "outputs": [
        {
          "output_type": "error",
          "ename": "ValueError",
          "evalue": "ignored",
          "traceback": [
            "\u001b[0;31m---------------------------------------------------------------------------\u001b[0m",
            "\u001b[0;31mValueError\u001b[0m                                Traceback (most recent call last)",
            "\u001b[0;32m<ipython-input-35-cb87b80765aa>\u001b[0m in \u001b[0;36m<module>\u001b[0;34m()\u001b[0m\n\u001b[1;32m      1\u001b[0m train_data = object_detector.DataLoader.from_pascal_voc('/content/dummy_test/dummy_test/train',\n\u001b[1;32m      2\u001b[0m     \u001b[0;34m'/content/dummy_test/dummy_test/train'\u001b[0m\u001b[0;34m,\u001b[0m\u001b[0;34m\u001b[0m\u001b[0;34m\u001b[0m\u001b[0m\n\u001b[0;32m----> 3\u001b[0;31m     \u001b[0;34m[\u001b[0m\u001b[0;34m'bird'\u001b[0m\u001b[0;34m,\u001b[0m\u001b[0;34m'lightning'\u001b[0m\u001b[0;34m]\u001b[0m\u001b[0;34m\u001b[0m\u001b[0;34m\u001b[0m\u001b[0m\n\u001b[0m\u001b[1;32m      4\u001b[0m )\n\u001b[1;32m      5\u001b[0m \u001b[0;34m\u001b[0m\u001b[0m\n",
            "\u001b[0;32m/usr/local/lib/python3.7/dist-packages/tensorflow_examples/lite/model_maker/core/data_util/object_detector_dataloader.py\u001b[0m in \u001b[0;36mfrom_pascal_voc\u001b[0;34m(cls, images_dir, annotations_dir, label_map, annotation_filenames, ignore_difficult_instances, num_shards, max_num_images, cache_dir, cache_prefix_filename)\u001b[0m\n\u001b[1;32m    218\u001b[0m           \u001b[0mcache_files\u001b[0m\u001b[0;34m=\u001b[0m\u001b[0mcache_files\u001b[0m\u001b[0;34m,\u001b[0m\u001b[0;34m\u001b[0m\u001b[0;34m\u001b[0m\u001b[0m\n\u001b[1;32m    219\u001b[0m           \u001b[0mannotations_dir\u001b[0m\u001b[0;34m=\u001b[0m\u001b[0mannotations_dir\u001b[0m\u001b[0;34m,\u001b[0m\u001b[0;34m\u001b[0m\u001b[0;34m\u001b[0m\u001b[0m\n\u001b[0;32m--> 220\u001b[0;31m           annotation_filenames=annotation_filenames)\n\u001b[0m\u001b[1;32m    221\u001b[0m \u001b[0;34m\u001b[0m\u001b[0m\n\u001b[1;32m    222\u001b[0m     \u001b[0;32mreturn\u001b[0m \u001b[0mcls\u001b[0m\u001b[0;34m.\u001b[0m\u001b[0mfrom_cache\u001b[0m\u001b[0;34m(\u001b[0m\u001b[0mcache_files\u001b[0m\u001b[0;34m.\u001b[0m\u001b[0mcache_prefix\u001b[0m\u001b[0;34m)\u001b[0m\u001b[0;34m\u001b[0m\u001b[0;34m\u001b[0m\u001b[0m\n",
            "\u001b[0;32m/usr/local/lib/python3.7/dist-packages/tensorflow_examples/lite/model_maker/core/data_util/object_detector_dataloader_util.py\u001b[0m in \u001b[0;36mwrite_files\u001b[0;34m(self, cache_files, *args, **kwargs)\u001b[0m\n\u001b[1;32m    256\u001b[0m           \u001b[0mself\u001b[0m\u001b[0;34m.\u001b[0m\u001b[0munique_id\u001b[0m\u001b[0;34m,\u001b[0m\u001b[0;34m\u001b[0m\u001b[0;34m\u001b[0m\u001b[0m\n\u001b[1;32m    257\u001b[0m           \u001b[0mignore_difficult_instances\u001b[0m\u001b[0;34m=\u001b[0m\u001b[0mself\u001b[0m\u001b[0;34m.\u001b[0m\u001b[0mignore_difficult_instances\u001b[0m\u001b[0;34m,\u001b[0m\u001b[0;34m\u001b[0m\u001b[0;34m\u001b[0m\u001b[0m\n\u001b[0;32m--> 258\u001b[0;31m           ann_json_dict=ann_json_dict)\n\u001b[0m\u001b[1;32m    259\u001b[0m       \u001b[0mwriters\u001b[0m\u001b[0;34m[\u001b[0m\u001b[0midx\u001b[0m \u001b[0;34m%\u001b[0m \u001b[0mself\u001b[0m\u001b[0;34m.\u001b[0m\u001b[0mnum_shards\u001b[0m\u001b[0;34m]\u001b[0m\u001b[0;34m.\u001b[0m\u001b[0mwrite\u001b[0m\u001b[0;34m(\u001b[0m\u001b[0mtf_example\u001b[0m\u001b[0;34m.\u001b[0m\u001b[0mSerializeToString\u001b[0m\u001b[0;34m(\u001b[0m\u001b[0;34m)\u001b[0m\u001b[0;34m)\u001b[0m\u001b[0;34m\u001b[0m\u001b[0;34m\u001b[0m\u001b[0m\n\u001b[1;32m    260\u001b[0m       \u001b[0msize\u001b[0m \u001b[0;34m=\u001b[0m \u001b[0midx\u001b[0m \u001b[0;34m+\u001b[0m \u001b[0;36m1\u001b[0m\u001b[0;34m\u001b[0m\u001b[0;34m\u001b[0m\u001b[0m\n",
            "\u001b[0;32m/usr/local/lib/python3.7/dist-packages/tensorflow_examples/lite/model_maker/third_party/efficientdet/dataset/create_pascal_tfrecord.py\u001b[0m in \u001b[0;36mdict_to_tf_example\u001b[0;34m(data, images_dir, label_map_dict, unique_id, ignore_difficult_instances, ann_json_dict)\u001b[0m\n\u001b[1;32m    132\u001b[0m   \u001b[0mimage\u001b[0m \u001b[0;34m=\u001b[0m \u001b[0mPIL\u001b[0m\u001b[0;34m.\u001b[0m\u001b[0mImage\u001b[0m\u001b[0;34m.\u001b[0m\u001b[0mopen\u001b[0m\u001b[0;34m(\u001b[0m\u001b[0mencoded_jpg_io\u001b[0m\u001b[0;34m)\u001b[0m\u001b[0;34m\u001b[0m\u001b[0;34m\u001b[0m\u001b[0m\n\u001b[1;32m    133\u001b[0m   \u001b[0;32mif\u001b[0m \u001b[0mimage\u001b[0m\u001b[0;34m.\u001b[0m\u001b[0mformat\u001b[0m \u001b[0;34m!=\u001b[0m \u001b[0;34m'JPEG'\u001b[0m\u001b[0;34m:\u001b[0m\u001b[0;34m\u001b[0m\u001b[0;34m\u001b[0m\u001b[0m\n\u001b[0;32m--> 134\u001b[0;31m     \u001b[0;32mraise\u001b[0m \u001b[0mValueError\u001b[0m\u001b[0;34m(\u001b[0m\u001b[0;34m'Image format not JPEG'\u001b[0m\u001b[0;34m)\u001b[0m\u001b[0;34m\u001b[0m\u001b[0;34m\u001b[0m\u001b[0m\n\u001b[0m\u001b[1;32m    135\u001b[0m   \u001b[0mkey\u001b[0m \u001b[0;34m=\u001b[0m \u001b[0mhashlib\u001b[0m\u001b[0;34m.\u001b[0m\u001b[0msha256\u001b[0m\u001b[0;34m(\u001b[0m\u001b[0mencoded_jpg\u001b[0m\u001b[0;34m)\u001b[0m\u001b[0;34m.\u001b[0m\u001b[0mhexdigest\u001b[0m\u001b[0;34m(\u001b[0m\u001b[0;34m)\u001b[0m\u001b[0;34m\u001b[0m\u001b[0;34m\u001b[0m\u001b[0m\n\u001b[1;32m    136\u001b[0m \u001b[0;34m\u001b[0m\u001b[0m\n",
            "\u001b[0;31mValueError\u001b[0m: Image format not JPEG"
          ]
        }
      ],
      "source": [
        "train_data = object_detector.DataLoader.from_pascal_voc('/content/dummy_test/dummy_test/train',\n",
        "    '/content/dummy_test/dummy_test/train',\n",
        "    ['bird','lightning']\n",
        ")\n",
        "\n",
        "val_data = object_detector.DataLoader.from_pascal_voc(\n",
        "    '/content/final_model/final_model/test',\n",
        "    '/content/final_model/final_model/test',\n",
        "    ['bird','lightning']\n",
        ")"
      ]
    },
    {
      "cell_type": "code",
      "source": [
        "train_data = object_detector.DataLoader.from_pascal_voc('/content/test/test',\n",
        "    '/content/test/test',\n",
        "    ['bird','lightning']\n",
        ")"
      ],
      "metadata": {
        "id": "SVzbA_VmoX8i"
      },
      "execution_count": null,
      "outputs": []
    },
    {
      "cell_type": "code",
      "source": [
        "print(len(train_data))\n",
        "print(len(val_data))"
      ],
      "metadata": {
        "colab": {
          "base_uri": "https://localhost:8080/"
        },
        "id": "KvdUn_BwzA7B",
        "outputId": "4d794e1c-39e9-4f50-e3b2-f4eecac00ba9"
      },
      "execution_count": 28,
      "outputs": [
        {
          "output_type": "stream",
          "name": "stdout",
          "text": [
            "37\n",
            "52\n"
          ]
        }
      ]
    },
    {
      "cell_type": "code",
      "execution_count": 30,
      "metadata": {
        "id": "qXG3D9YVlTZb"
      },
      "outputs": [],
      "source": [
        "spec = model_spec.get('efficientdet_lite0')"
      ]
    },
    {
      "cell_type": "code",
      "execution_count": null,
      "metadata": {
        "colab": {
          "base_uri": "https://localhost:8080/"
        },
        "id": "7yRRrgEclTgB",
        "outputId": "7e98e066-f1a3-4539-bd31-741edef5b5ad"
      },
      "outputs": [
        {
          "metadata": {
            "tags": null
          },
          "name": "stdout",
          "output_type": "stream",
          "text": [
            "Epoch 1/20\n",
            "13/13 [==============================] - 67s 2s/step - det_loss: 1.7634 - cls_loss: 1.1285 - box_loss: 0.0127 - reg_l2_loss: 0.0630 - loss: 1.8264 - learning_rate: 0.0065 - gradient_norm: 2.6025 - val_det_loss: 1.6581 - val_cls_loss: 1.1115 - val_box_loss: 0.0109 - val_reg_l2_loss: 0.0630 - val_loss: 1.7211\n",
            "Epoch 2/20\n",
            "13/13 [==============================] - 26s 2s/step - det_loss: 1.6823 - cls_loss: 1.0931 - box_loss: 0.0118 - reg_l2_loss: 0.0630 - loss: 1.7453 - learning_rate: 0.0049 - gradient_norm: 2.5127 - val_det_loss: 1.5695 - val_cls_loss: 1.0436 - val_box_loss: 0.0105 - val_reg_l2_loss: 0.0630 - val_loss: 1.6325\n",
            "Epoch 3/20\n",
            "13/13 [==============================] - 26s 2s/step - det_loss: 1.5962 - cls_loss: 1.0440 - box_loss: 0.0110 - reg_l2_loss: 0.0630 - loss: 1.6592 - learning_rate: 0.0048 - gradient_norm: 3.1034 - val_det_loss: 1.4237 - val_cls_loss: 0.9315 - val_box_loss: 0.0098 - val_reg_l2_loss: 0.0630 - val_loss: 1.4867\n",
            "Epoch 4/20\n",
            "13/13 [==============================] - 28s 2s/step - det_loss: 1.4928 - cls_loss: 0.9602 - box_loss: 0.0107 - reg_l2_loss: 0.0630 - loss: 1.5558 - learning_rate: 0.0046 - gradient_norm: 4.0989 - val_det_loss: 1.1089 - val_cls_loss: 0.7074 - val_box_loss: 0.0080 - val_reg_l2_loss: 0.0630 - val_loss: 1.1719\n",
            "Epoch 5/20\n",
            "13/13 [==============================] - 36s 3s/step - det_loss: 1.3417 - cls_loss: 0.8419 - box_loss: 0.0100 - reg_l2_loss: 0.0630 - loss: 1.4048 - learning_rate: 0.0043 - gradient_norm: 4.2890 - val_det_loss: 1.0331 - val_cls_loss: 0.6465 - val_box_loss: 0.0077 - val_reg_l2_loss: 0.0630 - val_loss: 1.0961\n",
            "Epoch 6/20\n",
            "13/13 [==============================] - 28s 2s/step - det_loss: 1.2930 - cls_loss: 0.7565 - box_loss: 0.0107 - reg_l2_loss: 0.0630 - loss: 1.3561 - learning_rate: 0.0040 - gradient_norm: 6.6080 - val_det_loss: 0.8672 - val_cls_loss: 0.5068 - val_box_loss: 0.0072 - val_reg_l2_loss: 0.0630 - val_loss: 0.9303\n",
            "Epoch 7/20\n",
            "13/13 [==============================] - 28s 2s/step - det_loss: 1.1888 - cls_loss: 0.6859 - box_loss: 0.0101 - reg_l2_loss: 0.0630 - loss: 1.2519 - learning_rate: 0.0037 - gradient_norm: 5.1056 - val_det_loss: 0.9056 - val_cls_loss: 0.5279 - val_box_loss: 0.0076 - val_reg_l2_loss: 0.0631 - val_loss: 0.9687\n",
            "Epoch 8/20\n",
            "13/13 [==============================] - 26s 2s/step - det_loss: 1.1015 - cls_loss: 0.6408 - box_loss: 0.0092 - reg_l2_loss: 0.0631 - loss: 1.1645 - learning_rate: 0.0033 - gradient_norm: 6.2243 - val_det_loss: 0.8380 - val_cls_loss: 0.4526 - val_box_loss: 0.0077 - val_reg_l2_loss: 0.0631 - val_loss: 0.9010\n",
            "Epoch 9/20\n",
            "13/13 [==============================] - 30s 2s/step - det_loss: 1.0464 - cls_loss: 0.6037 - box_loss: 0.0089 - reg_l2_loss: 0.0631 - loss: 1.1095 - learning_rate: 0.0029 - gradient_norm: 6.2177 - val_det_loss: 0.7372 - val_cls_loss: 0.4080 - val_box_loss: 0.0066 - val_reg_l2_loss: 0.0631 - val_loss: 0.8002\n",
            "Epoch 10/20\n",
            "13/13 [==============================] - 33s 3s/step - det_loss: 0.9638 - cls_loss: 0.5429 - box_loss: 0.0084 - reg_l2_loss: 0.0631 - loss: 1.0269 - learning_rate: 0.0025 - gradient_norm: 5.8023 - val_det_loss: 0.7161 - val_cls_loss: 0.3987 - val_box_loss: 0.0063 - val_reg_l2_loss: 0.0631 - val_loss: 0.7792\n",
            "Epoch 11/20\n",
            "13/13 [==============================] - 27s 2s/step - det_loss: 1.0100 - cls_loss: 0.5862 - box_loss: 0.0085 - reg_l2_loss: 0.0631 - loss: 1.0731 - learning_rate: 0.0021 - gradient_norm: 6.3200 - val_det_loss: 0.7620 - val_cls_loss: 0.4298 - val_box_loss: 0.0066 - val_reg_l2_loss: 0.0631 - val_loss: 0.8251\n",
            "Epoch 12/20\n",
            "13/13 [==============================] - 29s 2s/step - det_loss: 0.9462 - cls_loss: 0.5341 - box_loss: 0.0082 - reg_l2_loss: 0.0631 - loss: 1.0093 - learning_rate: 0.0017 - gradient_norm: 5.8490 - val_det_loss: 0.7022 - val_cls_loss: 0.3931 - val_box_loss: 0.0062 - val_reg_l2_loss: 0.0631 - val_loss: 0.7653\n",
            "Epoch 13/20\n",
            "13/13 [==============================] - 29s 2s/step - det_loss: 0.9055 - cls_loss: 0.5103 - box_loss: 0.0079 - reg_l2_loss: 0.0631 - loss: 0.9686 - learning_rate: 0.0013 - gradient_norm: 5.7178 - val_det_loss: 0.6855 - val_cls_loss: 0.3923 - val_box_loss: 0.0059 - val_reg_l2_loss: 0.0631 - val_loss: 0.7487\n",
            "Epoch 14/20\n",
            "13/13 [==============================] - 26s 2s/step - det_loss: 0.9169 - cls_loss: 0.5253 - box_loss: 0.0078 - reg_l2_loss: 0.0631 - loss: 0.9800 - learning_rate: 9.6817e-04 - gradient_norm: 6.6764 - val_det_loss: 0.6672 - val_cls_loss: 0.3914 - val_box_loss: 0.0055 - val_reg_l2_loss: 0.0631 - val_loss: 0.7303\n",
            "Epoch 15/20\n",
            "13/13 [==============================] - 33s 3s/step - det_loss: 0.9159 - cls_loss: 0.5069 - box_loss: 0.0082 - reg_l2_loss: 0.0631 - loss: 0.9790 - learning_rate: 6.6451e-04 - gradient_norm: 6.0651 - val_det_loss: 0.6693 - val_cls_loss: 0.3946 - val_box_loss: 0.0055 - val_reg_l2_loss: 0.0631 - val_loss: 0.7325\n",
            "Epoch 16/20\n",
            "13/13 [==============================] - 28s 2s/step - det_loss: 0.9793 - cls_loss: 0.5656 - box_loss: 0.0083 - reg_l2_loss: 0.0631 - loss: 1.0424 - learning_rate: 4.1093e-04 - gradient_norm: 7.1133 - val_det_loss: 0.6586 - val_cls_loss: 0.3830 - val_box_loss: 0.0055 - val_reg_l2_loss: 0.0631 - val_loss: 0.7217\n",
            "Epoch 17/20\n",
            "13/13 [==============================] - 28s 2s/step - det_loss: 0.8966 - cls_loss: 0.5142 - box_loss: 0.0076 - reg_l2_loss: 0.0631 - loss: 0.9597 - learning_rate: 2.1433e-04 - gradient_norm: 5.8088 - val_det_loss: 0.6197 - val_cls_loss: 0.3544 - val_box_loss: 0.0053 - val_reg_l2_loss: 0.0631 - val_loss: 0.6828\n",
            "Epoch 18/20\n",
            "13/13 [==============================] - 28s 2s/step - det_loss: 0.8581 - cls_loss: 0.4752 - box_loss: 0.0077 - reg_l2_loss: 0.0631 - loss: 0.9212 - learning_rate: 8.0072e-05 - gradient_norm: 6.2472 - val_det_loss: 0.6058 - val_cls_loss: 0.3459 - val_box_loss: 0.0052 - val_reg_l2_loss: 0.0631 - val_loss: 0.6689\n",
            "Epoch 19/20\n",
            "13/13 [==============================] - 28s 2s/step - det_loss: 0.8320 - cls_loss: 0.4639 - box_loss: 0.0074 - reg_l2_loss: 0.0631 - loss: 0.8952 - learning_rate: 1.1827e-05 - gradient_norm: 4.8887 - val_det_loss: 0.6105 - val_cls_loss: 0.3512 - val_box_loss: 0.0052 - val_reg_l2_loss: 0.0631 - val_loss: 0.6736\n",
            "Epoch 20/20\n",
            "13/13 [==============================] - ETA: 0s - det_loss: 0.9000 - cls_loss: 0.5138 - box_loss: 0.0077 - reg_l2_loss: 0.0631 - loss: 0.9631 - learning_rate: 1.0098e-05 - gradient_norm: 5.7610"
          ]
        }
      ],
      "source": [
        "model = object_detector.create(val_data, model_spec=spec, batch_size=4, train_whole_model=True, epochs=20, validation_data=train_data)"
      ]
    },
    {
      "cell_type": "code",
      "execution_count": 33,
      "metadata": {
        "id": "kaB29HKllThZ",
        "colab": {
          "base_uri": "https://localhost:8080/"
        },
        "outputId": "69e0b68d-92a7-484b-98be-d3c8cb51ef12"
      },
      "outputs": [
        {
          "output_type": "stream",
          "name": "stdout",
          "text": [
            "\r1/1 [==============================] - 9s 9s/step\n",
            "\n"
          ]
        },
        {
          "output_type": "execute_result",
          "data": {
            "text/plain": [
              "{'AP': 0.29215893,\n",
              " 'AP50': 0.64010787,\n",
              " 'AP75': 0.2070028,\n",
              " 'AP_/bird': 0.48853287,\n",
              " 'AP_/lightning': 0.095784985,\n",
              " 'APl': 0.29243913,\n",
              " 'APm': 0.1,\n",
              " 'APs': -1.0,\n",
              " 'ARl': 0.41184616,\n",
              " 'ARm': 0.1,\n",
              " 'ARmax1': 0.322,\n",
              " 'ARmax10': 0.408,\n",
              " 'ARmax100': 0.408,\n",
              " 'ARs': -1.0}"
            ]
          },
          "metadata": {},
          "execution_count": 33
        }
      ],
      "source": [
        "model.evaluate(train_data)"
      ]
    },
    {
      "cell_type": "code",
      "execution_count": null,
      "metadata": {
        "id": "Jtv1eBbalTol"
      },
      "outputs": [],
      "source": [
        "model.export(export_dir='.', tflite_filename='model.tflite')"
      ]
    },
    {
      "cell_type": "code",
      "execution_count": null,
      "metadata": {
        "id": "S1DKGxRhlTrH",
        "colab": {
          "base_uri": "https://localhost:8080/"
        },
        "outputId": "87b17924-18d6-4bb6-acf9-9165989478eb"
      },
      "outputs": [
        {
          "output_type": "stream",
          "name": "stdout",
          "text": [
            "10/10 [==============================] - 22s 2s/step\n",
            "\n"
          ]
        },
        {
          "output_type": "execute_result",
          "data": {
            "text/plain": [
              "{'AP': 0.39438945,\n",
              " 'AP50': 0.7326733,\n",
              " 'AP75': 0.4290429,\n",
              " 'AP_/bird': 0.58217824,\n",
              " 'AP_/lightning': 0.20660067,\n",
              " 'APl': 0.39438945,\n",
              " 'APm': -1.0,\n",
              " 'APs': -1.0,\n",
              " 'ARl': 0.40666667,\n",
              " 'ARm': -1.0,\n",
              " 'ARmax1': 0.40666667,\n",
              " 'ARmax10': 0.40666667,\n",
              " 'ARmax100': 0.40666667,\n",
              " 'ARs': -1.0}"
            ]
          },
          "metadata": {},
          "execution_count": 16
        }
      ],
      "source": [
        "model.evaluate_tflite('model.tflite', val_data)"
      ]
    },
    {
      "cell_type": "code",
      "source": [
        ""
      ],
      "metadata": {
        "id": "kH_qvl0I8uX5"
      },
      "execution_count": null,
      "outputs": []
    },
    {
      "cell_type": "markdown",
      "metadata": {
        "id": "wnqktl45PZRy"
      },
      "source": [
        "## Test the Android figurine detection model\n",
        "\n",
        "After training the model, let's test it with an image that the model hasn't seen before to get a sense of how good the model is."
      ]
    },
    {
      "cell_type": "code",
      "source": [
        ""
      ],
      "metadata": {
        "id": "M_MpuAGP8ufV"
      },
      "execution_count": null,
      "outputs": []
    },
    {
      "cell_type": "code",
      "source": [
        ""
      ],
      "metadata": {
        "id": "zMFg2bNo8ulh"
      },
      "execution_count": null,
      "outputs": []
    }
  ],
  "metadata": {
    "colab": {
      "name": "Untitled13.ipynb",
      "provenance": [],
      "mount_file_id": "1WI4yZDmPKZoM1ZIOXx7BrVisSVPQIHDA",
      "authorship_tag": "ABX9TyOWaUZShNwBHYABZEf2KaBB",
      "include_colab_link": true
    },
    "kernelspec": {
      "display_name": "Python 3",
      "name": "python3"
    },
    "language_info": {
      "name": "python"
    }
  },
  "nbformat": 4,
  "nbformat_minor": 0
}